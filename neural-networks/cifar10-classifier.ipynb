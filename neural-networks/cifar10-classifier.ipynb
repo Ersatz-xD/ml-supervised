{
 "cells": [
  {
   "cell_type": "markdown",
   "id": "17bc27c3-ab2b-4251-8bfa-949b70f75854",
   "metadata": {},
   "source": [
    "# **Neural Networks for Multiclass Classification (CIFAR-10)**\n",
    "\n",
    "## **Introduction**\n",
    "This project demonstrates how to use **Neural Networks (CNNs with TensorFlow/Keras)** to solve a **multiclass image classification** problem on the **CIFAR-10 dataset**.\n",
    "\n",
    "CIFAR-10 is a popular benchmark dataset in computer vision, consisting of **60,000 color images** (32×32 pixels) across **10 classes**:\n",
    "\n",
    "- airplane  \n",
    "- automobile  \n",
    "- bird  \n",
    "- cat  \n",
    "- deer  \n",
    "- dog  \n",
    "- frog  \n",
    "- horse  \n",
    "- ship  \n",
    "- truck  \n",
    "\n",
    "### Objectives\n",
    "Through this notebook, we will:\n",
    "- Learn how to **load and preprocess image data**.  \n",
    "- Build a **Convolutional Neural Network (CNN)** from scratch using TensorFlow/Keras.  \n",
    "- Explore **optimizers** (Adam vs SGD) and their impact on training.  \n",
    "- Apply best practices like **dropout**, **early stopping**, and **data augmentation**.  \n",
    "- Evaluate results with **accuracy, confusion matrix, and per-class metrics**.  \n",
    "- Visualize training progress using **matplotlib** and **TensorBoard**.  \n"
   ]
  },
  {
   "cell_type": "markdown",
   "id": "f1408eca-9cc3-4ae3-9536-563d3785fe79",
   "metadata": {},
   "source": [
    "### **Environment Setup & Imports**"
   ]
  },
  {
   "cell_type": "code",
   "execution_count": 1,
   "id": "011d0f7e-409c-4c8d-9d71-fb9698662ed4",
   "metadata": {},
   "outputs": [
    {
     "name": "stdout",
     "output_type": "stream",
     "text": [
      "TensorFlow version: 2.20.0\n",
      "GPU available: []\n"
     ]
    }
   ],
   "source": [
    "import numpy as np\n",
    "import matplotlib.pyplot as plt\n",
    "import seaborn as sns\n",
    "\n",
    "import tensorflow as tf\n",
    "from tensorflow import keras\n",
    "from tensorflow.keras import layers, models\n",
    "from tensorflow.keras.callbacks import EarlyStopping, ModelCheckpoint, TensorBoard\n",
    "\n",
    "from sklearn.model_selection import train_test_split\n",
    "from sklearn.metrics import confusion_matrix, classification_report\n",
    "\n",
    "import os\n",
    "import datetime\n",
    "\n",
    "\n",
    "print(\"TensorFlow version:\", tf.__version__)\n",
    "print(\"GPU available:\", tf.config.list_physical_devices('GPU'))"
   ]
  },
  {
   "cell_type": "markdown",
   "id": "cd36e9dc-8613-44c1-a02b-fa143a47fd4a",
   "metadata": {},
   "source": [
    "### **Loading and Exploring the CIFAR-10 Dataset**\n",
    "We split it into:\n",
    "- **Training set**: 50,000 images\n",
    "- **Test set**: 10,000 images  \n",
    "\n",
    "Before training a neural network:\n",
    "- We **normalize** pixel values to `[0, 1]` (instead of `0–255`) for faster convergence.  \n",
    "- We also **visualize a few samples** to understand the dataset better.\n"
   ]
  },
  {
   "cell_type": "code",
   "execution_count": 2,
   "id": "bd6b2c69-0d43-4e58-a828-f645f14d1afb",
   "metadata": {},
   "outputs": [
    {
     "name": "stdout",
     "output_type": "stream",
     "text": [
      "Downloading data from https://www.cs.toronto.edu/~kriz/cifar-10-python.tar.gz\n",
      "\u001b[1m170498071/170498071\u001b[0m \u001b[32m━━━━━━━━━━━━━━━━━━━━\u001b[0m\u001b[37m\u001b[0m \u001b[1m78s\u001b[0m 0us/step\n",
      "Training data shape: (50000, 32, 32, 3) (50000, 1)\n",
      "Testing data shape: (10000, 32, 32, 3) (10000, 1)\n"
     ]
    }
   ],
   "source": [
    "from tensorflow.keras.datasets import cifar10\n",
    "\n",
    "(x_train, y_train), (x_test, y_test) = cifar10.load_data()\n",
    "\n",
    "\n",
    "x_train = x_train.astype(\"float32\") / 255.0\n",
    "x_test = x_test.astype(\"float32\") / 255.0\n",
    "\n",
    "#Check dataset shape\n",
    "print(\"Training data shape:\", x_train.shape, y_train.shape)\n",
    "print(\"Testing data shape:\", x_test.shape, y_test.shape)\n",
    "\n",
    "\n",
    "#Class names for CIFAR-10\n",
    "class_names = [\n",
    "    \"Airplane\", \"Automobile\", \"Bird\", \"Cat\", \"Deer\",\n",
    "    \"Dog\", \"Frog\", \"Horse\", \"Ship\", \"Truck\"\n",
    "]"
   ]
  },
  {
   "cell_type": "code",
   "execution_count": null,
   "id": "6a719dde-0cc6-4f54-88d6-fd9c39f936e6",
   "metadata": {},
   "outputs": [],
   "source": []
  }
 ],
 "metadata": {
  "kernelspec": {
   "display_name": "Python 3 (ipykernel)",
   "language": "python",
   "name": "python3"
  },
  "language_info": {
   "codemirror_mode": {
    "name": "ipython",
    "version": 3
   },
   "file_extension": ".py",
   "mimetype": "text/x-python",
   "name": "python",
   "nbconvert_exporter": "python",
   "pygments_lexer": "ipython3",
   "version": "3.12.6"
  }
 },
 "nbformat": 4,
 "nbformat_minor": 5
}
